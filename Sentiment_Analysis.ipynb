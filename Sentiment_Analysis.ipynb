{
 "cells": [
  {
   "cell_type": "markdown",
   "id": "colab-setup",
   "metadata": {},
   "source": [
    "# تحليل المشاعر باستخدام BERT\n",
    "\n",
    "هذا المشروع يستخدم نموذج BERT لتحليل المشاعر في النصوص العربية والإنجليزية."
   ]
  },
  {
   "cell_type": "code",
   "execution_count": null,
   "id": "colab-mount",
   "metadata": {},
   "outputs": [],
   "source": [
    "# تحميل Google Drive في Colab\n",
    "try:\n",
    "    from google.colab import drive\n",
    "    drive.mount('/content/drive')\n",
    "    COLAB_ENV = True\n",
    "    print('تم تحميل Google Drive بنجاح!')\n",
    "except ImportError:\n",
    "    COLAB_ENV = False\n",
    "    print('البيئة المحلية - لا حاجة لتحميل Drive')"
   ]
  },
  {
   "cell_type": "code",
   "execution_count": null,
   "id": "install-packages",
   "metadata": {},
   "outputs": [],
   "source": [
    "# تثبيت المكتبات المطلوبة\n",
    "!pip install transformers datasets torch scikit-learn seqeval\n",
    "!pip install --upgrade transformers"
   ]
  },
  {
   "cell_type": "code",
   "execution_count": null,
   "id": "imports-and-setup",
   "metadata": {},
   "outputs": [],
   "source": [
    "import os\n",
    "import json\n",
    "import pandas as pd\n",
    "import numpy as np\n",
    "import torch\n",
    "from torch.utils.data import Dataset\n",
    "from datasets import load_dataset\n",
    "from transformers import BertTokenizer, BertForSequenceClassification\n",
    "from transformers import TrainingArguments, Trainer\n",
    "from sklearn.model_selection import train_test_split\n",
    "from sklearn.metrics import accuracy_score, f1_score\n",
    "\n",
    "# تحديد مسارات البيانات\n",
    "if 'COLAB_ENV' in globals() and COLAB_ENV:\n",
    "    # مسار البيانات في Google Drive\n",
    "    DATA_PATH = '/content/drive/MyDrive/AI-Projects-main/db'\n",
    "    MODEL_SAVE_PATH = '/content/drive/MyDrive/AI-Projects-main/models'\n",
    "else:\n",
    "    # مسار البيانات المحلي\n",
    "    DATA_PATH = r'c:\\\\Users\\\\Administrator\\\\Desktop\\\\AI-Projects-main\\\\db'\n",
    "    MODEL_SAVE_PATH = r'c:\\\\Users\\\\Administrator\\\\Desktop\\\\AI-Projects-main\\\\models'\n",
    "\n",
    "# إنشاء مجلد النماذج إذا لم يكن موجوداً\n",
    "os.makedirs(MODEL_SAVE_PATH, exist_ok=True)\n",
    "print(f'مسار البيانات: {DATA_PATH}')\n",
    "print(f'مسار حفظ النماذج: {MODEL_SAVE_PATH}')"
   ]
  },
  {
   "cell_type": "markdown",
   "id": "data-loading-section",
   "metadata": {},
   "source": [
    "## تحميل ومعالجة البيانات\n",
    "\n",
    "سنقوم بتحميل البيانات من ملفات JSONL وتحويلها لتحليل المشاعر"
   ]
  },
  {
   "cell_type": "code",
   "execution_count": null,
   "id": "load-jsonl-data",
   "metadata": {},
   "outputs": [],
   "source": [
    "def load_jsonl_data(data_path):\n",
    "    \"\"\"تحميل البيانات من ملفات JSONL\"\"\"\n",
    "    all_data = []\n",
    "    \n",
    "    # البحث عن جميع ملفات JSONL في المجلد\n",
    "    jsonl_files = []\n",
    "    for file in os.listdir(data_path):\n",
    "        if file.endswith('.jsonl'):\n",
    "            jsonl_files.append(os.path.join(data_path, file))\n",
    "    \n",
    "    print(f'تم العثور على {len(jsonl_files)} ملف JSONL')\n",
    "    \n",
    "    for file_path in jsonl_files:\n",
    "        print(f'تحميل: {os.path.basename(file_path)}')\n",
    "        with open(file_path, 'r', encoding='utf-8') as f:\n",
    "            for line_num, line in enumerate(f):\n",
    "                try:\n",
    "                    data = json.loads(line.strip())\n",
    "                    if 'input' in data and 'response' in data:\n",
    "                        all_data.append({\n",
    "                            'text': data['input'],\n",
    "                            'response': data['response']\n",
    "                        })\n",
    "                except json.JSONDecodeError as e:\n",
    "                    print(f'خطأ في السطر {line_num + 1} من {os.path.basename(file_path)}: {e}')\n",
    "                    continue\n",
    "    \n",
    "    print(f'تم تحميل {len(all_data)} عينة من البيانات')\n",
    "    return all_data"
   ]
  },
  {
   "cell_type": "code",
   "execution_count": null,
   "id": "sentiment-labeling",
   "metadata": {},
   "outputs": [],
   "source": [
    "def analyze_sentiment_simple(text):\n",
    "    \"\"\"تحليل بسيط للمشاعر بناءً على الكلمات المفتاحية\"\"\"\n",
    "    positive_words = ['جيد', 'ممتاز', 'رائع', 'أحب', 'مفيد', 'جميل', 'نجح', 'توفيق', 'شكرا', 'أشكرك']\n",
    "    negative_words = ['سيء', 'فشل', 'مشكلة', 'خطأ', 'صعب', 'مستحيل', 'لا أحب', 'مزعج']\n",
    "    \n",
    "    text_lower = text.lower()\n",
    "    \n",
    "    positive_count = sum(1 for word in positive_words if word in text_lower)\n",
    "    negative_count = sum(1 for word in negative_words if word in text_lower)\n",
    "    \n",
    "    if positive_count > negative_count:\n",
    "        return 2  # positive\n",
    "    elif negative_count > positive_count:\n",
    "        return 0  # negative\n",
    "    else:\n",
    "        return 1  # neutral\n",
    "\n",
    "def prepare_sentiment_data(raw_data, max_samples=10000):\n",
    "    \"\"\"تحضير البيانات لتدريب نموذج تحليل المشاعر\"\"\"\n",
    "    processed_data = []\n",
    "    \n",
    "    # أخذ عينة من البيانات إذا كانت كبيرة\n",
    "    if len(raw_data) > max_samples:\n",
    "        raw_data = raw_data[:max_samples]\n",
    "        print(f'تم أخذ عينة من {max_samples} عنصر من البيانات')\n",
    "    \n",
    "    for item in raw_data:\n",
    "        text = item['text']\n",
    "        response = item['response']\n",
    "        \n",
    "        # تحليل المشاعر للنص والرد\n",
    "        input_sentiment = analyze_sentiment_simple(text)\n",
    "        response_sentiment = analyze_sentiment_simple(response)\n",
    "        \n",
    "        # إضافة النص مع تصنيف المشاعر\n",
    "        processed_data.append({\n",
    "            'text': text,\n",
    "            'label': input_sentiment\n",
    "        })\n",
    "        \n",
    "        processed_data.append({\n",
    "            'text': response,\n",
    "            'label': response_sentiment\n",
    "        })\n",
    "    \n",
    "    return processed_data"
   ]
  },
  {
   "cell_type": "code",
   "execution_count": null,
   "id": "load-and-process-data",
   "metadata": {},
   "outputs": [],
   "source": [
    "# تحميل البيانات\n",
    "print('بدء تحميل البيانات...')\n",
    "raw_data = load_jsonl_data(DATA_PATH)\n",
    "\n",
    "# تحضير البيانات لتحليل المشاعر\n",
    "print('تحضير البيانات لتحليل المشاعر...')\n",
    "sentiment_data = prepare_sentiment_data(raw_data, max_samples=20000)\n",
    "\n",
    "# عرض إحصائيات البيانات\n",
    "labels = [item['label'] for item in sentiment_data]\n",
    "label_counts = pd.Series(labels).value_counts()\n",
    "print('\\nتوزيع التصنيفات:')\n",
    "print(f'سلبي (0): {label_counts.get(0, 0)}')\n",
    "print(f'محايد (1): {label_counts.get(1, 0)}')\n",
    "print(f'إيجابي (2): {label_counts.get(2, 0)}')\n",
    "\n",
    "# عرض عينات من البيانات\n",
    "print('\\nعينات من البيانات:')\n",
    "for i in range(min(5, len(sentiment_data))):\n",
    "    item = sentiment_data[i]\n",
    "    label_name = ['سلبي', 'محايد', 'إيجابي'][item['label']]\n",
    "    print(f'{i+1}. النص: {item[\"text\"][:100]}...')\n",
    "    print(f'   التصنيف: {label_name}\\n')"
   ]
  },
  {
   "cell_type": "code",
   "execution_count": null,
   "id": "setup-tokenizer",
   "metadata": {},
   "outputs": [],
   "source": [
    "# إعداد المحلل اللغوي\n",
    "tokenizer = BertTokenizer.from_pretrained(\"bert-base-multilingual-cased\")\n",
    "\n",
    "# تشفير البيانات\n",
    "def encode_data(data_list):\n",
    "    encoded_data = []\n",
    "    \n",
    "    for item in data_list:\n",
    "        encoding = tokenizer(\n",
    "            item['text'],\n",
    "            truncation=True,\n",
    "            padding='max_length',\n",
    "            max_length=128,\n",
    "            return_tensors='pt'\n",
    "        )\n",
    "        \n",
    "        encoded_item = {\n",
    "            'input_ids': encoding['input_ids'][0],\n",
    "            'attention_mask': encoding['attention_mask'][0],\n",
    "            'label': item['label']\n",
    "        }\n",
    "        encoded_data.append(encoded_item)\n",
    "    \n",
    "    return encoded_data\n",
    "\n",
    "print('تشفير البيانات...')\n",
    "encoded_sentiment_data = encode_data(sentiment_data)\n",
    "print(f'تم تشفير {len(encoded_sentiment_data)} عينة')"
   ]
  },
  {
   "cell_type": "markdown",
   "id": "17dd9d8e",
   "metadata": {},
   "source": [
    "## إعداد نموذج PyTorch"
   ]
  },
  {
   "cell_type": "code",
   "execution_count": null,
   "id": "sentiment-dataset",
   "metadata": {},
   "outputs": [],
   "source": [
    "# فئة البيانات لـ PyTorch\n",
    "class SentimentDataset(Dataset):\n",
    "    def __init__(self, data):\n",
    "        self.data = data  # قائمة من القواميس\n",
    "\n",
    "    def __len__(self):\n",
    "        return len(self.data)\n",
    "\n",
    "    def __getitem__(self, idx):\n",
    "        item = self.data[idx]\n",
    "        return {\n",
    "            'input_ids': item['input_ids'],\n",
    "            'attention_mask': item['attention_mask'],\n",
    "            'labels': torch.tensor(item['label'], dtype=torch.long)\n",
    "        }"
   ]
  },
  {
   "cell_type": "code",
   "execution_count": null,
   "id": "split-data",
   "metadata": {},
   "outputs": [],
   "source": [
    "# تقسيم البيانات إلى تدريب وتقييم\n",
    "train_data, val_data = train_test_split(encoded_sentiment_data, test_size=0.2, random_state=42)\n",
    "\n",
    "train_dataset = SentimentDataset(train_data)\n",
    "val_dataset = SentimentDataset(val_data)\n",
    "\n",
    "print(f'بيانات التدريب: {len(train_dataset)} عينة')\n",
    "print(f'بيانات التقييم: {len(val_dataset)} عينة')"
   ]
  },
  {
   "cell_type": "code",
   "execution_count": null,
   "id": "load-model",
   "metadata": {},
   "outputs": [],
   "source": [
    "# تحميل نموذج BERT متعدد اللغات\n",
    "model = BertForSequenceClassification.from_pretrained(\n",
    "    'bert-base-multilingual-cased', \n",
    "    num_labels=3\n",
    ")\n",
    "\n",
    "print('تم تحميل النموذج بنجاح!')"
   ]
  },
  {
   "cell_type": "code",
   "execution_count": null,
   "id": "training-args",
   "metadata": {},
   "outputs": [],
   "source": [
    "# إعدادات التدريب\n",
    "training_args = TrainingArguments(\n",
    "    output_dir=os.path.join(MODEL_SAVE_PATH, 'sentiment_model'),\n",
    "    num_train_epochs=3,\n",
    "    per_device_train_batch_size=16,\n",
    "    per_device_eval_batch_size=16,\n",
    "    warmup_steps=500,\n",
    "    weight_decay=0.01,\n",
    "    eval_strategy='epoch',\n",
    "    logging_strategy='epoch',\n",
    "    save_strategy='epoch',\n",
    "    logging_dir=os.path.join(MODEL_SAVE_PATH, 'logs'),\n",
    "    load_best_model_at_end=True,\n",
    "    metric_for_best_model='accuracy',\n",
    "    save_total_limit=2,\n",
    "    report_to='none',  # تعطيل WandB/MLFlow\n",
    "    dataloader_pin_memory=False,  # لتجنب مشاكل الذاكرة في Colab\n",
    ")\n",
    "\n",
    "print(f'مجلد حفظ النموذج: {training_args.output_dir}')"
   ]
  },
  {
   "cell_type": "code",
   "execution_count": null,
   "id": "compute-metrics",
   "metadata": {},
   "outputs": [],
   "source": [
    "def compute_metrics(eval_pred):\n",
    "    \"\"\"حساب مقاييس الأداء\"\"\"\n",
    "    logits, labels = eval_pred\n",
    "    predictions = np.argmax(logits, axis=1)\n",
    "    return {\n",
    "        'accuracy': accuracy_score(labels, predictions),\n",
    "        'f1': f1_score(labels, predictions, average='macro')\n",
    "    }"
   ]
  },
  {
   "cell_type": "code",
   "execution_count": null,
   "id": "train-model",
   "metadata": {},
   "outputs": [],
   "source": [
    "# إنشاء المدرب وبدء التدريب\n",
    "trainer = Trainer(\n",
    "    model=model,\n",
    "    args=training_args,\n",
    "    train_dataset=train_dataset,\n",
    "    eval_dataset=val_dataset,\n",
    "    compute_metrics=compute_metrics\n",
    ")\n",
    "\n",
    "print('بدء تدريب النموذج...')\n",
    "trainer.train()\n",
    "\n",
    "print('تم الانتهاء من التدريب!')"
   ]
  },
  {
   "cell_type": "code",
   "execution_count": null,
   "id": "classify-sentiment",
   "metadata": {},
   "outputs": [],
   "source": [
    "def classify_sentiment(text):\n",
    "    \"\"\"تصنيف المشاعر للنص المدخل\"\"\"\n",
    "    inputs = tokenizer(\n",
    "        text,\n",
    "        return_tensors='pt',\n",
    "        truncation=True,\n",
    "        padding='max_length',\n",
    "        max_length=128\n",
    "    )\n",
    "    \n",
    "    with torch.no_grad():\n",
    "        outputs = model(**inputs)\n",
    "        logits = outputs.logits\n",
    "        prediction = torch.argmax(logits, dim=1).item()\n",
    "        probabilities = torch.softmax(logits, dim=1)[0]\n",
    "    \n",
    "    label_map = {0: 'سلبي', 1: 'محايد', 2: 'إيجابي'}\n",
    "    confidence = probabilities[prediction].item()\n",
    "    \n",
    "    return {\n",
    "        'label': label_map[prediction],\n",
    "        'confidence': confidence,\n",
    "        'probabilities': {\n",
    "            'سلبي': probabilities[0].item(),\n",
    "            'محايد': probabilities[1].item(),\n",
    "            'إيجابي': probabilities[2].item()\n",
    "        }\n",
    "    }"
   ]
  },
  {
   "cell_type": "code",
   "execution_count": null,
   "id": "test-sentiment",
   "metadata": {},
   "outputs": [],
   "source": [
    "# اختبار النموذج\n",
    "test_texts = [\n",
    "    'هذا المنتج رائع جداً وأنصح به',\n",
    "    'المنتج سيء ولا أنصح بشرائه',\n",
    "    'المنتج عادي، لا بأس به',\n",
    "    'This product is amazing!',\n",
    "    'I hate this product'\n",
    "]\n",
    "\n",
    "print('اختبار النموذج:')\n",
    "for text in test_texts:\n",
    "    result = classify_sentiment(text)\n",
    "    print(f'النص: {text}')\n",
    "    print(f'التصنيف: {result[\"label\"]} (ثقة: {result[\"confidence\"]:.2f})')\n",
    "    print('---')"
   ]
  },
  {
   "cell_type": "markdown",
   "id": "6ce9efbb-a27b-4718-b4d2-10afe7d96c50",
   "metadata": {},
   "source": [
    "### استكمال التدريب"
   ]
  },
  {
   "cell_type": "markdown",
   "id": "44118c6c-bc49-4f56-9872-358090e2ce18",
   "metadata": {},
   "source": [
    "##### 1- من نقطة التوقف (نفس البيانات)"
   ]
  },
  {
   "cell_type": "code",
   "execution_count": null,
   "id": "817587f1-b54d-43a6-a4e7-fe21b36bed6e",
   "metadata": {},
   "outputs": [],
   "source": [
    "# trainer.train(resume_from_checkpoint=\"path/to/checkpoint\")"
   ]
  },
  {
   "cell_type": "markdown",
   "id": "9a142156-0706-4159-add2-510ba517a913",
   "metadata": {},
   "source": [
    "##### 2- تحميل النموذج (بيانات مختلفة)"
   ]
  },
  {
   "cell_type": "code",
   "execution_count": null,
   "id": "67dd8aa6-7a7d-41e7-a1c9-399d60087b91",
   "metadata": {},
   "outputs": [],
   "source": [
    "# model = BertForSequenceClassification.from_pretrained(\"path/to/checkpoint\")"
   ]
  },
  {
   "cell_type": "markdown",
   "id": "67bff7be-f069-41b5-b6f2-3658e50794dc",
   "metadata": {},
   "source": [
    "### النشر"
   ]
  },
  {
   "cell_type": "code",
   "execution_count": null,
   "id": "save-model",
   "metadata": {},
   "outputs": [],
   "source": [
    "# حفظ النموذج للنشر\n",
    "deployment_path = os.path.join(MODEL_SAVE_PATH, 'Sentiment_Model_Final')\n",
    "model.save_pretrained(deployment_path)\n",
    "tokenizer.save_pretrained(deployment_path)\n",
    "\n",
    "print(f'تم حفظ النموذج في: {deployment_path}')\n",
    "print('يمكن الآن استخدام النموذج للنشر!')"
   ]
  }
 ],
 "metadata": {
  "kernelspec": {
   "display_name": "Python 3",
   "language": "python",
   "name": "python3"
  },
  "language_info": {
   "codemirror_mode": {
    "name": "ipython",
    "version": 3
   },
   "file_extension": ".py",
   "mimetype": "text/x-python",
   "name": "python",
   "nbconvert_exporter": "python",
   "pygments_lexer": "ipython3",
   "version": "3.8.5"
  }
 },
 "nbformat": 4,
 "nbformat_minor": 5
}